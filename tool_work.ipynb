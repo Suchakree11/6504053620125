{
  "nbformat": 4,
  "nbformat_minor": 0,
  "metadata": {
    "colab": {
      "provenance": [],
      "authorship_tag": "ABX9TyOz/5wh9rAbdX0zs8yBi0r9",
      "include_colab_link": true
    },
    "kernelspec": {
      "name": "python3",
      "display_name": "Python 3"
    },
    "language_info": {
      "name": "python"
    }
  },
  "cells": [
    {
      "cell_type": "markdown",
      "metadata": {
        "id": "view-in-github",
        "colab_type": "text"
      },
      "source": [
        "<a href=\"https://colab.research.google.com/github/Suchakree11/6504053620125/blob/main/tool_work.ipynb\" target=\"_parent\"><img src=\"https://colab.research.google.com/assets/colab-badge.svg\" alt=\"Open In Colab\"/></a>"
      ]
    },
    {
      "cell_type": "code",
      "execution_count": 1,
      "metadata": {
        "colab": {
          "base_uri": "https://localhost:8080/"
        },
        "id": "y75hBvc6BWRj",
        "outputId": "e5658791-1ab7-4a79-8f33-6e577695fafb"
      },
      "outputs": [
        {
          "output_type": "stream",
          "name": "stdout",
          "text": [
            "Counter({1: 2, 2: 1})\n",
            "Counter({1: 125192, 2: 62236, 3: 31614, 4: 15436, 5: 7822, 6: 3942, 7: 1917, 8: 951, 9: 487, 10: 236, 11: 114, 12: 72, 13: 25, 14: 21, 15: 9, 16: 7, 18: 1, 17: 1, 20: 1})\n"
          ]
        }
      ],
      "source": [
        "from collections import Counter\n",
        "\n",
        "def count_runs(trials):\n",
        "    counts = Counter()\n",
        "    current_run = 0\n",
        "\n",
        "    for trial in trials:\n",
        "        if trial == 1:  # Success\n",
        "            current_run += 1\n",
        "        elif current_run > 0:  # End of a run\n",
        "            counts[current_run] += 1\n",
        "            current_run = 0\n",
        "    if current_run > 0:  # Handle case if last trials end in a run\n",
        "        counts[current_run] += 1\n",
        "\n",
        "    return counts\n",
        "\n",
        "# Example usage\n",
        "import numpy as np\n",
        "\n",
        "# Example 1\n",
        "print(count_runs([0, 1, 0, 1, 1, 0, 0, 0, 0, 1]))  # Counter({1: 2, 2: 1})\n",
        "\n",
        "# Example 2\n",
        "trials = np.random.randint(0, 2, 1000000)\n",
        "print(count_runs(trials))  # Counter with observed run lengths\n"
      ]
    },
    {
      "cell_type": "code",
      "source": [
        "def run_prob(expts, n, k, p):\n",
        "    success_count = 0\n",
        "\n",
        "    for _ in range(expts):\n",
        "        trials = np.random.binomial(1, p, n)\n",
        "        counts = count_runs(trials)\n",
        "        if any(run_length >= k for run_length in counts):\n",
        "            success_count += 1\n",
        "\n",
        "    return success_count / expts\n",
        "\n",
        "# Example usage\n",
        "print(run_prob(expts=100000, n=100, k=5, p=0.5))  # Expected ~0.80704\n",
        "print(run_prob(expts=100000, n=100, k=7, p=0.7))  # Expected ~0.94881\n"
      ],
      "metadata": {
        "colab": {
          "base_uri": "https://localhost:8080/"
        },
        "id": "vOtopMBIBelz",
        "outputId": "1a672582-7787-4afa-b163-df5b34e72513"
      },
      "execution_count": 2,
      "outputs": [
        {
          "output_type": "stream",
          "name": "stdout",
          "text": [
            "0.80973\n",
            "0.94872\n"
          ]
        }
      ]
    }
  ]
}